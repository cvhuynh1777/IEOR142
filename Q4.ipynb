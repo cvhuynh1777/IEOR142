{
  "nbformat": 4,
  "nbformat_minor": 0,
  "metadata": {
    "colab": {
      "provenance": []
    },
    "kernelspec": {
      "name": "python3",
      "display_name": "Python 3"
    },
    "language_info": {
      "name": "python"
    }
  },
  "cells": [
    {
      "cell_type": "markdown",
      "source": [
        "**Question 3: Differentiating Top-Performing Teams from Lower-Performing Ones\n",
        "Datasets: Look for datasets with comprehensive team performance metrics (points scored, points allowed, win-loss records, shooting percentages, etc.) over multiple seasons.\n",
        "Preparation: Classify teams as top-performing or lower-performing based on their win-loss record, playoff appearances.\n",
        "Analysis: Use Gradient Boosting to identify which statistics are most predictive of a team's classification.\n",
        "Interpretation: Determine the key differentiators that set top-performing teams apart. (can limit it to teams that will enter playoffs, enter semi finals in playoffs, or end up with top whatever record). Can do it for one year, or across multiple years.**"
      ],
      "metadata": {
        "id": "VJ-UHOtN7gu1"
      }
    },
    {
      "cell_type": "code",
      "source": [
        "import pandas as pd\n",
        "from sklearn.model_selection import train_test_split"
      ],
      "metadata": {
        "id": "7p910WopdFDo"
      },
      "execution_count": null,
      "outputs": []
    },
    {
      "cell_type": "code",
      "source": [
        "df = pd.read_csv(\"/content/nba_team_stats_00_to_21 (1).csv\")"
      ],
      "metadata": {
        "id": "wIdoAOJ6Hxtb"
      },
      "execution_count": null,
      "outputs": []
    },
    {
      "cell_type": "code",
      "source": [
        "import numpy as np\n",
        "from sklearn.ensemble import GradientBoostingClassifier\n",
        "from sklearn.model_selection import train_test_split, cross_val_score\n",
        "from sklearn.feature_selection import SelectKBest, f_classif\n",
        "\n",
        "df = df.dropna()\n",
        "\n",
        "df['top_performing'] = df['WIN%'].apply(lambda x: 1 if x > 0.6 else 0)\n",
        "\n",
        "ndf1 = df.drop(['teamstatspk', 'TEAM', 'SEASON', 'WIN%', 'FGM', '3PM', 'FTM', 'FGA', 'FTA', '3PA'], axis=1)\n",
        "\n",
        "# Separate the target variable from the predictors\n",
        "X = ndf1.drop('top_performing', axis=1)\n",
        "y = ndf1['top_performing']\n",
        "\n",
        "# Perform feature selection\n",
        "selector = SelectKBest(f_classif, k=10)\n",
        "X_new = selector.fit_transform(X, y)\n",
        "\n",
        "# Split the data into training and test sets\n",
        "X_train, X_test, y_train, y_test = train_test_split(X_new, y, test_size=0.2, random_state=42)\n",
        "\n",
        "# Train the Gradient Boosting Classifier model\n",
        "model = GradientBoostingClassifier(n_estimators=100, random_state=42)\n",
        "model.fit(X_train, y_train)\n",
        "\n",
        "# Evaluate the model\n",
        "accuracy = model.score(X_test, y_test)\n",
        "print(f'Test Accuracy: {accuracy * 100:.2f}%')\n",
        "\n",
        "# Perform cross-validation\n",
        "cv_scores = cross_val_score(model, X_new, y, cv=5)\n",
        "print(f'CV Accuracy: {np.mean(cv_scores) * 100:.2f}%')"
      ],
      "metadata": {
        "colab": {
          "base_uri": "https://localhost:8080/"
        },
        "id": "6xi7fPDW4Irw",
        "outputId": "f6ca7fc7-5bbb-4691-8da4-0179627874d0"
      },
      "execution_count": null,
      "outputs": [
        {
          "output_type": "stream",
          "name": "stdout",
          "text": [
            "Test Accuracy: 100.00%\n",
            "CV Accuracy: 97.93%\n"
          ]
        }
      ]
    },
    {
      "cell_type": "code",
      "source": [
        "df = df.dropna()\n",
        "\n",
        "# Classify teams with a regular season win percentage of 60% or higher as \"top-performing teams\"\n",
        "df['top_performing'] = df['WIN%'].apply(lambda x: 1 if x >= 0.6 else 0)\n",
        "\n",
        "# Select features (X) and target variable (y)\n",
        "X = df[['PTS', 'REB', 'AST', 'OREB', 'DREB', 'FGA', '3PA', 'FTA', 'FG%', '3P%', 'FT%', 'BLK', 'PF', 'TOV', 'STL']]\n",
        "y = df['top_performing']\n",
        "\n",
        "# Split the dataset into training and testing sets\n",
        "X_train, X_test, y_train, y_test = train_test_split(X, y, test_size=0.2, random_state=42)"
      ],
      "metadata": {
        "id": "ZfH_y76idHTH"
      },
      "execution_count": null,
      "outputs": []
    },
    {
      "cell_type": "code",
      "source": [
        "from sklearn.ensemble import GradientBoostingClassifier\n",
        "from sklearn.metrics import accuracy_score\n",
        "from sklearn.metrics import classification_report\n",
        "\n",
        "# Initialize the Gradient Boosting Classifier\n",
        "clf = GradientBoostingClassifier()\n",
        "\n",
        "# Train the model\n",
        "clf.fit(X_train, y_train)\n",
        "\n",
        "# Make predictions\n",
        "predictions = clf.predict(X_test)\n",
        "\n",
        "# Evaluate accuracy\n",
        "accuracy = accuracy_score(y_test, predictions)\n",
        "print(f\"Accuracy: {accuracy}\")\n",
        "\n",
        "print(\"Classification Report:\")\n",
        "print(classification_report(y_test, predictions))"
      ],
      "metadata": {
        "colab": {
          "base_uri": "https://localhost:8080/"
        },
        "id": "7-5r1-yfghxE",
        "outputId": "de988639-1d79-40eb-98e2-de5a0efeada3"
      },
      "execution_count": null,
      "outputs": [
        {
          "output_type": "stream",
          "name": "stdout",
          "text": [
            "Accuracy: 0.8412698412698413\n",
            "Classification Report:\n",
            "              precision    recall  f1-score   support\n",
            "\n",
            "           0       0.87      0.91      0.89        87\n",
            "           1       0.77      0.69      0.73        39\n",
            "\n",
            "    accuracy                           0.84       126\n",
            "   macro avg       0.82      0.80      0.81       126\n",
            "weighted avg       0.84      0.84      0.84       126\n",
            "\n"
          ]
        }
      ]
    },
    {
      "cell_type": "code",
      "source": [
        "# Extract feature importance\n",
        "feature_importance = clf.feature_importances_\n",
        "\n",
        "# Map feature importance to feature names\n",
        "feature_names = list(X.columns)\n",
        "feature_importance_dict = dict(zip(feature_names, feature_importance))\n",
        "\n",
        "# Print or visualize feature importance\n",
        "print(feature_importance)"
      ],
      "metadata": {
        "colab": {
          "base_uri": "https://localhost:8080/"
        },
        "id": "241Kzq1RgruO",
        "outputId": "168a4777-df17-474c-e3ff-6f93ee4cd314"
      },
      "execution_count": null,
      "outputs": [
        {
          "output_type": "stream",
          "name": "stdout",
          "text": [
            "[0.01353372 0.11911533 0.01409975 0.01881446 0.02305309 0.12252564\n",
            " 0.04348081 0.02306024 0.277013   0.10355005 0.02191609 0.06832469\n",
            " 0.04210436 0.06897235 0.04043642]\n"
          ]
        }
      ]
    },
    {
      "cell_type": "code",
      "source": [
        "import matplotlib.pyplot as plt\n",
        "indices = np.argsort(feature_importance)\n",
        "\n",
        "plt.title('Feature Importances')\n",
        "plt.barh(range(len(indices)), feature_importance[indices], color='b', align='center')\n",
        "plt.yticks(range(len(indices)), [feature_names[i] for i in indices])\n",
        "plt.xlabel('Relative Importance')\n",
        "plt.show()"
      ],
      "metadata": {
        "colab": {
          "base_uri": "https://localhost:8080/",
          "height": 472
        },
        "id": "TWmqzpMniH2c",
        "outputId": "22be0ab9-c305-4714-c616-18cb7f944d7b"
      },
      "execution_count": null,
      "outputs": [
        {
          "output_type": "display_data",
          "data": {
            "text/plain": [
              "<Figure size 640x480 with 1 Axes>"
            ],
            "image/png": "[encoded data removed]"
          },
          "metadata": {}
        }
      ]
    },
    {
      "cell_type": "code",
      "source": [
        "from sklearn.feature_selection import RFE\n",
        "# Initialize the Gradient Boosting Classifier\n",
        "clf = GradientBoostingClassifier()\n",
        "\n",
        "# Initialize RFE with the classifier and the number of features to retain\n",
        "num_features_to_select = 5  # You can adjust this based on your needs\n",
        "rfe = RFE(clf, n_features_to_select=num_features_to_select)\n",
        "\n",
        "# Fit RFE\n",
        "rfe.fit(X_train, y_train)\n",
        "\n",
        "# Get the selected features\n",
        "selected_features = pd.DataFrame({'Feature': X_train.columns, 'Selected': rfe.support_, 'Ranking': rfe.ranking_})\n",
        "\n",
        "# Display the selected features\n",
        "print(\"Selected Features:\")\n",
        "print(selected_features[selected_features['Selected']])\n",
        "\n",
        "# Transform the training set to include only the selected features\n",
        "X_train_selected = rfe.transform(X_train)\n",
        "\n",
        "# Transform the testing set as well\n",
        "X_test_selected = rfe.transform(X_test)"
      ],
      "metadata": {
        "colab": {
          "base_uri": "https://localhost:8080/"
        },
        "id": "DOLSXJmAhJ5t",
        "outputId": "67f967d1-2e8e-4cd1-eed7-d6f6f780e61e"
      },
      "execution_count": null,
      "outputs": [
        {
          "output_type": "stream",
          "name": "stdout",
          "text": [
            "Selected Features:\n",
            "   Feature  Selected  Ranking\n",
            "1      REB      True        1\n",
            "5      FGA      True        1\n",
            "8      FG%      True        1\n",
            "9      3P%      True        1\n",
            "13     TOV      True        1\n"
          ]
        }
      ]
    },
    {
      "cell_type": "markdown",
      "source": [
        "**Five most important statistics for predicting whether a team is top-performing (in order)**\n",
        "\n",
        "\n",
        "\n",
        "1.   Field Goal % (FG%)\n",
        "2.   Three Point % (3P%)\n",
        "3.   Rebounding (REB)\n",
        "4.   Turnovers (TOV)\n",
        "5.   Steals (STL)\n",
        "\n"
      ],
      "metadata": {
        "id": "PAfwn05Hh0bc"
      }
    }
  ]
}